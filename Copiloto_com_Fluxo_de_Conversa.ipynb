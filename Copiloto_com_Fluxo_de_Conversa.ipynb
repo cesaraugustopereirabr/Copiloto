{
  "nbformat": 4,
  "nbformat_minor": 0,
  "metadata": {
    "colab": {
      "provenance": [],
      "authorship_tag": "ABX9TyOVafxJ4Hyito+nIcaGUqzY",
      "include_colab_link": true
    },
    "kernelspec": {
      "name": "python3",
      "display_name": "Python 3"
    },
    "language_info": {
      "name": "python"
    }
  },
  "cells": [
    {
      "cell_type": "markdown",
      "metadata": {
        "id": "view-in-github",
        "colab_type": "text"
      },
      "source": [
        "<a href=\"https://colab.research.google.com/github/cesaraugustopereirabr/Copiloto/blob/main/Copiloto_com_Fluxo_de_Conversa.ipynb\" target=\"_parent\"><img src=\"https://colab.research.google.com/assets/colab-badge.svg\" alt=\"Open In Colab\"/></a>"
      ]
    },
    {
      "cell_type": "code",
      "execution_count": 4,
      "metadata": {
        "colab": {
          "base_uri": "https://localhost:8080/"
        },
        "id": "abLXFYOST4KM",
        "outputId": "db09cccf-a1a8-457b-fbb7-968c6c29e96d"
      },
      "outputs": [
        {
          "output_type": "stream",
          "name": "stderr",
          "text": [
            "No model was supplied, defaulted to distilbert/distilbert-base-cased-distilled-squad and revision 564e9b5 (https://huggingface.co/distilbert/distilbert-base-cased-distilled-squad).\n",
            "Using a pipeline without specifying a model name and revision in production is not recommended.\n",
            "Device set to use cpu\n"
          ]
        },
        {
          "output_type": "stream",
          "name": "stdout",
          "text": [
            "🤖 Olá! Eu sou seu Copiloto IA. Vamos conversar!\n",
            "👤 Para começar, qual é o seu nome? Zé\n",
            "\n",
            "Prazer, Zé! Em que área você deseja ajuda hoje?\n",
            "1 - Jurídico\n",
            "2 - Tecnologia\n",
            "3 - Geral\n",
            "Digite o número da opção desejada: 1\n",
            "\n",
            "✅ Ótimo! Você escolheu o tema: Jurídico.\n",
            "\n",
            "❓ Digite sua pergunta (ou 'sair' para encerrar): o que é OAB\n",
            "💬 Copiloto: a Ordem dos Advogados do Brasil\n",
            "\n",
            "❓ Digite sua pergunta (ou 'sair' para encerrar): sair\n",
            "👋 Até mais, Zé! Obrigado por conversar comigo.\n"
          ]
        }
      ],
      "source": [
        "# Instala as bibliotecas necessárias\n",
        "!pip install transformers --quiet\n",
        "\n",
        "from transformers import pipeline\n",
        "\n",
        "# Criação do pipeline de Pergunta e Resposta\n",
        "qa_pipeline = pipeline(\"question-answering\")\n",
        "\n",
        "# Contextos específicos para o copiloto\n",
        "contextos = {\n",
        "    \"jurídico\": \"\"\"\n",
        "    A OAB é a Ordem dos Advogados do Brasil, entidade que regulamenta o exercício da advocacia.\n",
        "    O advogado tem o dever de zelar pela Constituição, pela ordem jurídica e pelos direitos humanos.\n",
        "    \"\"\",\n",
        "    \"tecnologia\": \"\"\"\n",
        "    A Inteligência Artificial é um campo da ciência da computação que desenvolve sistemas capazes de simular a inteligência humana.\n",
        "    O Microsoft Copilot Studio é uma plataforma para criar bots com IA generativa usando o Power Platform.\n",
        "    \"\"\",\n",
        "    \"geral\": \"\"\"\n",
        "    O horário de funcionamento padrão de um escritório é das 9h às 18h.\n",
        "    Para atendimento ao cliente, recomenda-se o uso de canais organizados como e-mail, WhatsApp Business ou ERPs especializados.\n",
        "    \"\"\"\n",
        "}\n",
        "\n",
        "# Função para obter resposta do copiloto\n",
        "def perguntar_ao_copiloto(pergunta, categoria):\n",
        "    resposta = qa_pipeline(question=pergunta, context=contextos[categoria])\n",
        "    return resposta['answer']\n",
        "\n",
        "# Máquina de estados simulando um fluxo de conversa\n",
        "def copiloto_conversacional():\n",
        "    print(\"🤖 Olá! Eu sou seu Copiloto IA. Vamos conversar!\")\n",
        "\n",
        "    nome = input(\"👤 Para começar, qual é o seu nome? \")\n",
        "    print(f\"\\nPrazer, {nome}! Em que área você deseja ajuda hoje?\")\n",
        "    print(\"1 - Jurídico\\n2 - Tecnologia\\n3 - Geral\")\n",
        "\n",
        "    escolha = input(\"Digite o número da opção desejada: \").strip()\n",
        "    categorias = {\"1\": \"jurídico\", \"2\": \"tecnologia\", \"3\": \"geral\"}\n",
        "\n",
        "    if escolha not in categorias:\n",
        "        print(\"❌ Opção inválida. Encerrando a conversa.\")\n",
        "        return\n",
        "\n",
        "    categoria_escolhida = categorias[escolha]\n",
        "    print(f\"\\n✅ Ótimo! Você escolheu o tema: {categoria_escolhida.capitalize()}.\")\n",
        "\n",
        "    while True:\n",
        "        pergunta = input(\"\\n❓ Digite sua pergunta (ou 'sair' para encerrar): \")\n",
        "        if pergunta.lower() in [\"sair\", \"exit\", \"encerrar\"]:\n",
        "            print(f\"👋 Até mais, {nome}! Obrigado por conversar comigo.\")\n",
        "            break\n",
        "\n",
        "        resposta = perguntar_ao_copiloto(pergunta, categoria_escolhida)\n",
        "        print(\"💬 Copiloto:\", resposta)\n",
        "\n",
        "# Inicia o fluxo\n",
        "copiloto_conversacional()"
      ]
    }
  ]
}